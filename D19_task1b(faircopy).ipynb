{
  "nbformat": 4,
  "nbformat_minor": 0,
  "metadata": {
    "colab": {
      "name": "D19_task1b(faircopy).ipynb",
      "provenance": [],
      "collapsed_sections": [],
      "authorship_tag": "ABX9TyMK5+0YrUT1E4wawCROKllo",
      "include_colab_link": true
    },
    "kernelspec": {
      "name": "python3",
      "display_name": "Python 3"
    },
    "language_info": {
      "name": "python"
    }
  },
  "cells": [
    {
      "cell_type": "markdown",
      "metadata": {
        "id": "view-in-github",
        "colab_type": "text"
      },
      "source": [
        "<a href=\"https://colab.research.google.com/github/JayabharathiRavi/simple-file-handling/blob/main/D19_task1b(faircopy).ipynb\" target=\"_parent\"><img src=\"https://colab.research.google.com/assets/colab-badge.svg\" alt=\"Open In Colab\"/></a>"
      ]
    },
    {
      "cell_type": "code",
      "source": [
        "import re\n",
        "print(\"hello, welcome to file buddy\")\n",
        "d={\"Bharathi\":\"Bhara@123\",\"Leela\":\"Leela#12\"}\n",
        "name=input(\"enter your name:\")\n",
        "print(\"are you want to register or login\")\n",
        "a=input(\"enter r for register or l for login:\")\n",
        "\n",
        "if a==\"l\":  \n",
        "      p=input(\"enter your password:\")\n",
        "      if p == d.get(name.capitalize()):\n",
        "        print(\"welcome!\",name.capitalize())\n",
        "        print(\"your granted to enter your file\")\n",
        "        g=\"y\"\n",
        "      else:\n",
        "        print(\"your password invalid enter the valid password try again\")\n",
        "        p=input(\"reenter your password:\")\n",
        "        if p == d.get(name.capitalize()):\n",
        "          print(\"your granted to enter data in your file\")\n",
        "          g=input(\"enter y to proceed\")\n",
        "        else:\n",
        "          x=int(input(\"if you forgot the password enter 1 else to provide new password enter 2:\"))\n",
        "          if x==1:\n",
        "            name1=input(\"enter your valid username:\")\n",
        "            f=d.get(name1.capitalize())\n",
        "            if name1.capitalize() in d:\n",
        "              print(\"your granted to enter data in your file\")\n",
        "              g=input(\"enter y to proceed:\")\n",
        "            else:\n",
        "              print(\"your username not found register again from begining\")\n",
        "              a=input(\"enter r to register:\")\n",
        "          elif x==2:\n",
        "            name1=input(\"enter your valid user name:\")\n",
        "            if name1.capitalize() in d:\n",
        "              d[name1.capitalize()]=input(\"enter your new password:\")\n",
        "              if d[name1.capitalize()] == d.get(name.capitalize()):\n",
        "                print(\"your granted to enter your file\")\n",
        "                g=input(\"enter y to proceed:\")\n",
        "              else:\n",
        "                print(\"sorry we couldn't found register again\")\n",
        "                a=input(\"enter r to register:\")\n",
        "            else:\n",
        "              print(\"your name not found register again\")\n",
        "              a=input(\"enter r to register:\")\n",
        "\n",
        "if a== \"r\":\n",
        "  mail=input(\"enter you mail id:\")\n",
        "  regex = '^[a-z0-9]+[\\._]?[a-z0-9]+[@]\\w+[.]\\w{2,3}$'  \n",
        "  if(re.search(regex,mail)):\n",
        "     print(\"your mail id as \",mail,\" is passed\")\n",
        "     print(\"please enter a password with 5 to 16 character\")\n",
        "     print(\"Must have minimum one special character,one digit,one uppercase and lowercase character\")\n",
        "     print(\"for example 'Aadf#12'\")\n",
        "     password=input(\"enter a password:\")\n",
        "     reg= \"^(?=.*[a-z])(?=.*[A-Z])(?=.*\\d)(?=.*[@$!%*#?&])[A-Za-z\\d@$!#%*?&]{5,16}$\"\n",
        "     match_re = re.compile(reg)\n",
        "     res = re.search(match_re, password)\n",
        "     if res:\n",
        "       print(\"Valid Password\")\n",
        "       print(name.capitalize(),\"registered successfully\")\n",
        "       print(\"your grant to enter the data in file buddy\")\n",
        "       g=\"y\"\n",
        "     else:\n",
        "        print(\"invalid mailid please enter the valid mail,(for example: abcd123@gmail.com)\")       \n",
        "  else:\n",
        "    print(\"invalid password,try again\")\n",
        "  d1={name:password}\n",
        "  d.update(d1)\n",
        "\n",
        "if g==\"y\":\n",
        "  x=input(\"enter file name as like 'd19.txt':\")\n",
        "  file1=open(x,\"w\")\n",
        "  text1=[input(\"enter data:\")]\n",
        "  file1.writelines(text1)\n",
        "  file1=open(x,\"r\")\n",
        "  file1.close()\n"
      ],
      "metadata": {
        "colab": {
          "base_uri": "https://localhost:8080/"
        },
        "id": "dAWYyCfYaFhm",
        "outputId": "f9cc5d8f-b9f5-47e0-a45b-b289f9c98bd2"
      },
      "execution_count": 11,
      "outputs": [
        {
          "name": "stdout",
          "output_type": "stream",
          "text": [
            "hello, welcome to file buddy\n",
            "enter your name:Leela\n",
            "are you want to register or login\n",
            "enter r for register or l for login:Leela#12\n",
            "enter file name as like 'd19.txt':students_details.txt\n",
            "enter data:Name: Abirami  Batch : D19\n"
          ]
        }
      ]
    },
    {
      "cell_type": "code",
      "source": [
        "with open('students_details.txt') as f:\n",
        "    contents = f.readlines()\n",
        "    print(contents)"
      ],
      "metadata": {
        "colab": {
          "base_uri": "https://localhost:8080/"
        },
        "id": "LrPUCxPocE3r",
        "outputId": "ea577270-58d9-4844-9946-8b36cf7c81b2"
      },
      "execution_count": 12,
      "outputs": [
        {
          "output_type": "stream",
          "name": "stdout",
          "text": [
            "['Name: Abirami  Batch : D19']\n"
          ]
        }
      ]
    },
    {
      "cell_type": "code",
      "source": [
        "import re\n",
        "print(\"hello, welcome to file buddy\")\n",
        "d={\"Bharathi\":\"Bhara@123\",\"Leela\":\"Leela#12\"}\n",
        "name=input(\"enter your name:\")\n",
        "print(\"are you want to register or login\")\n",
        "a=input(\"enter r for register or l for login:\")\n",
        "\n",
        "if a==\"l\":  \n",
        "      p=input(\"enter your password:\")\n",
        "      if p == d.get(name.capitalize()):\n",
        "        print(\"welcome!\",name.capitalize())\n",
        "        print(\"your granted to enter your file\")\n",
        "        g=\"y\"\n",
        "      else:\n",
        "        print(\"your password invalid enter the valid password try again\")\n",
        "        p=input(\"reenter your password:\")\n",
        "        if p == d.get(name.capitalize()):\n",
        "          print(\"your granted to enter data in your file\")\n",
        "          g=input(\"enter y to proceed\")\n",
        "        else:\n",
        "          x=int(input(\"if you forgot the password enter 1 else to provide new password enter 2:\"))\n",
        "          if x==1:\n",
        "            name1=input(\"enter your valid username:\")\n",
        "            f=d.get(name1.capitalize())\n",
        "            if name1.capitalize() in d:\n",
        "              print(\"your granted to enter data in your file\")\n",
        "              g=input(\"enter y to proceed:\")\n",
        "            else:\n",
        "              print(\"your username not found register again from begining\")\n",
        "              a=input(\"enter r to register:\")\n",
        "          elif x==2:\n",
        "            name1=input(\"enter your valid user name:\")\n",
        "            if name1.capitalize() in d:\n",
        "              d[name1.capitalize()]=input(\"enter your new password:\")\n",
        "              if d[name1.capitalize()] == d.get(name.capitalize()):\n",
        "                print(\"your granted to enter your file\")\n",
        "                g=input(\"enter y to proceed:\")\n",
        "              else:\n",
        "                print(\"sorry we couldn't found register again\")\n",
        "                a=input(\"enter r to register:\")\n",
        "            else:\n",
        "              print(\"your name not found register again\")\n",
        "              a=input(\"enter r to register:\")\n",
        "\n",
        "if a== \"r\":\n",
        "  mail=input(\"enter you mail id:\")\n",
        "  regex = '^[a-z0-9]+[\\._]?[a-z0-9]+[@]\\w+[.]\\w{2,3}$'  \n",
        "  if(re.search(regex,mail)):\n",
        "     print(\"your mail id as \",mail,\" is passed\")\n",
        "     print(\"please enter a password with 5 to 16 character\")\n",
        "     print(\"Must have minimum one special character,one digit,one uppercase and lowercase character\")\n",
        "     print(\"for example 'Aadf#12'\")\n",
        "     password=input(\"enter a password:\")\n",
        "     reg= \"^(?=.*[a-z])(?=.*[A-Z])(?=.*\\d)(?=.*[@$!%*#?&])[A-Za-z\\d@$!#%*?&]{5,16}$\"\n",
        "     match_re = re.compile(reg)\n",
        "     res = re.search(match_re, password)\n",
        "     if res:\n",
        "       print(\"Valid Password\")\n",
        "       print(name.capitalize(),\"registered successfully\")\n",
        "       print(\"Now, your grant to enter the file buddy platform\")\n",
        "\n",
        "     else:\n",
        "       print(\"invalid password,try again\")\n",
        "  else:\n",
        "        print(\"invalid mailid please enter the valid mail,(for example: abcd123@gmail.com)\")   \n",
        "  \n",
        "  d1={name.capitalize():password}\n",
        "  d.update(d1)\n",
        "\n",
        "p=input(\"enter your password:\")\n",
        "if p == d.get(name.capitalize()):\n",
        "        print(\"welcome!\",name.capitalize())\n",
        "        print(\"your granted to enter your file\")\n",
        "        g=\"y\"\n",
        "else:\n",
        "        print(\"your password invalid enter the valid password try again\")\n",
        "        p=input(\"reenter your password:\")\n",
        "        if p == d.get(name.capitalize()):\n",
        "          print(\"your granted to enter data in your file\")\n",
        "          g=input(\"enter y to proceed\")\n",
        "        else:\n",
        "          x=int(input(\"if you forgot the password enter 1 else to provide new password enter 2:\"))\n",
        "          if x==1:\n",
        "            name1=input(\"enter your valid username:\")\n",
        "            f=d.get(name1.capitalize())\n",
        "            if name1.capitalize() in d:\n",
        "              print(\"your granted to enter data in your file\")\n",
        "              g=input(\"enter y to proceed:\")\n",
        "            else:\n",
        "              print(\"your username not found register again from begining\")\n",
        "              a=input(\"enter r to register:\")\n",
        "          elif x==2:\n",
        "            name1=input(\"enter your valid user name:\")\n",
        "            if name1.capitalize() in d:\n",
        "              d[name1.capitalize()]=input(\"enter your new password:\")\n",
        "              if d[name1.capitalize()] == d.get(name.capitalize()):\n",
        "                print(\"your granted to enter your file\")\n",
        "                g=input(\"enter y to proceed:\")\n",
        "              else:\n",
        "                print(\"sorry we couldn't found register again\")\n",
        "                a=input(\"enter r to register:\")\n",
        "          else:\n",
        "              print(\"your name not found register again\")\n",
        "              a=input(\"enter r to register:\")\n",
        "\n",
        "if g==\"y\":\n",
        "  x=input(\"enter file name as like 'd19.txt':\")\n",
        "  file1=open(x,\"w\")\n",
        "  text1=[input(\"enter data:\")]\n",
        "  file1.writelines(text1)\n",
        "  file1=open(x,\"r\")\n",
        "  file1.close()\n"
      ],
      "metadata": {
        "colab": {
          "base_uri": "https://localhost:8080/"
        },
        "id": "lPOO_u1vdc2A",
        "outputId": "1ad5baf4-f580-4e64-f63a-337211c479a3"
      },
      "execution_count": 26,
      "outputs": [
        {
          "name": "stdout",
          "output_type": "stream",
          "text": [
            "hello, welcome to file buddy\n",
            "enter your name:neela\n",
            "are you want to register or login\n",
            "enter r for register or l for login:r\n",
            "enter you mail id:neela@gmail.com\n",
            "your mail id as  neela@gmail.com  is passed\n",
            "please enter a password with 5 to 16 character\n",
            "Must have minimum one special character,one digit,one uppercase and lowercase character\n",
            "for example 'Aadf#12'\n",
            "enter a password:Neela#55\n",
            "Valid Password\n",
            "Neela registered successfully\n",
            "Now, your grant to enter the file buddy platform\n",
            "enter your password:Neela#55\n",
            "welcome! Neela\n",
            "your granted to enter your file\n",
            "enter file name as like 'd19.txt':d20.txt\n",
            "enter data:Welcome to Python World!\n"
          ]
        }
      ]
    },
    {
      "cell_type": "code",
      "source": [
        "d"
      ],
      "metadata": {
        "colab": {
          "base_uri": "https://localhost:8080/"
        },
        "id": "AFjy8B7AjzOi",
        "outputId": "85300883-c26d-441f-c3de-0c042e0ff459"
      },
      "execution_count": 27,
      "outputs": [
        {
          "output_type": "execute_result",
          "data": {
            "text/plain": [
              "{'Bharathi': 'Bhara@123', 'Leela': 'Leela#12', 'Neela': 'Neela#55'}"
            ]
          },
          "metadata": {},
          "execution_count": 27
        }
      ]
    },
    {
      "cell_type": "code",
      "source": [
        "with open('d20.txt') as f:\n",
        "    contents = f.readlines()\n",
        "    print(contents)"
      ],
      "metadata": {
        "colab": {
          "base_uri": "https://localhost:8080/"
        },
        "id": "AjtExLJ7a6CI",
        "outputId": "1417c593-313a-44cc-82ee-e3f298d67db6"
      },
      "execution_count": 28,
      "outputs": [
        {
          "output_type": "stream",
          "name": "stdout",
          "text": [
            "['Welcome to Python World!']\n"
          ]
        }
      ]
    }
  ]
}