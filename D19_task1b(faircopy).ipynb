{
  "nbformat": 4,
  "nbformat_minor": 0,
  "metadata": {
    "colab": {
      "name": "D19_task1b(faircopy).ipynb",
      "provenance": [],
      "collapsed_sections": [],
      "authorship_tag": "ABX9TyOYXH5MJtUtUeYicrV0ImRL",
      "include_colab_link": true
    },
    "kernelspec": {
      "name": "python3",
      "display_name": "Python 3"
    },
    "language_info": {
      "name": "python"
    }
  },
  "cells": [
    {
      "cell_type": "markdown",
      "metadata": {
        "id": "view-in-github",
        "colab_type": "text"
      },
      "source": [
        "<a href=\"https://colab.research.google.com/github/JayabharathiRavi/simple-file-handling/blob/main/D19_task1b(faircopy).ipynb\" target=\"_parent\"><img src=\"https://colab.research.google.com/assets/colab-badge.svg\" alt=\"Open In Colab\"/></a>"
      ]
    },
    {
      "cell_type": "code",
      "execution_count": null,
      "metadata": {
        "id": "VTHL7VQB443i",
        "colab": {
          "base_uri": "https://localhost:8080/"
        },
        "outputId": "51f0e22f-9acf-40f1-ec7f-1ca79eadbf68"
      },
      "outputs": [
        {
          "output_type": "stream",
          "name": "stdout",
          "text": [
            "hello, welcome file buddy\n",
            "enter your name:leela\n",
            "are you want to register or login\n",
            "enter r for register or l for login:l\n",
            "enter your password:Leela#12\n",
            "welcome! Leela\n",
            "your granted to enter your file\n",
            "enter file name as like 'd19.txt':d19.txt\n",
            "enter data:iit madras\n",
            "\n"
          ]
        }
      ],
      "source": [
        "import re\n",
        "print(\"hello, welcome file buddy\")\n",
        "d={\"Bharathi\":\"Bhara@123\",\"Leela\":\"Leela#12\"}\n",
        "name=input(\"enter your name:\")\n",
        "print(\"are you want to register or login\")\n",
        "a=input(\"enter r for register or l for login:\")\n",
        "\n",
        "if a==\"l\":  \n",
        "      p=input(\"enter your password:\")\n",
        "      if p == d.get(name.capitalize()):\n",
        "        print(\"welcome!\",name.capitalize())\n",
        "        print(\"your granted to enter your file\")\n",
        "        g=\"y\"\n",
        "      else:\n",
        "        print(\"your password invalid enter the valid password try again\")\n",
        "        p=input(\"reenter your password:\")\n",
        "        if p == d.get(name.capitalize()):\n",
        "          print(\"your granted to enter data in your file\")\n",
        "          g=input(\"enter y to proceed\")\n",
        "        else:\n",
        "          x=int(input(\"if you forgot the password enter 1 else to provide new password enter 2:\"))\n",
        "          if x==1:\n",
        "            name1=input(\"enter your valid username:\")\n",
        "            f=d.get(name1.capitalize())\n",
        "            if name1.capitalize() in d:\n",
        "              print(\"your granted to enter data in your file\")\n",
        "              g=input(\"enter y to proceed:\")\n",
        "            else:\n",
        "              print(\"your username not found register again from begining\")\n",
        "              a=input(\"enter r to register:\")\n",
        "          elif x==2:\n",
        "            name1=input(\"enter your valid user name:\")\n",
        "            if name1.capitalize() in d:\n",
        "              d[name1.capitalize()]=input(\"enter your new password:\")\n",
        "              if d[name1.capitalize()] == d.get(name.capitalize()):\n",
        "                print(\"your granted to enter your file\")\n",
        "                g=input(\"enter y to proceed:\")\n",
        "              else:\n",
        "                print(\"sorry we couldn't found register again\")\n",
        "                a=input(\"enter r to register:\")\n",
        "            else:\n",
        "              print(\"your name not found register again\")\n",
        "              a=input(\"enter r to register:\")\n",
        "\n",
        "if a== \"r\":\n",
        "  mail=input(\"enter you mail id:\")\n",
        "  regex = '^[a-z0-9]+[\\._]?[a-z0-9]+[@]\\w+[.]\\w{2,3}$'  \n",
        "  if(re.search(regex,mail)):\n",
        "     print(\"your mail id as \",mail,\" is passed\")\n",
        "     print(\"please enter a password with 5 to 16 character\")\n",
        "     print(\"Must have minimum one special character,one digit,one uppercase and lowercase character\")\n",
        "     print(\"for example 'Aadf#12'\")\n",
        "     password=input(\"enter a password:\")\n",
        "     reg= \"^(?=.*[a-z])(?=.*[A-Z])(?=.*\\d)(?=.*[@$!%*#?&])[A-Za-z\\d@$!#%*?&]{5,16}$\"\n",
        "     match_re = re.compile(reg)\n",
        "     res = re.search(match_re, password)\n",
        "     if res:\n",
        "       print(\"Valid Password\")\n",
        "       print(name.capitalize(),\"registered successfully\")\n",
        "       print(\"your grant to enter the data in file buddy\")\n",
        "       g=\"y\"\n",
        "     else:\n",
        "        print(\"invalid mailid please enter the valid mail,(for example: abcd123@gmail.com)\")       \n",
        "  else:\n",
        "    print(\"invalid password,try again\")\n",
        "  d1={name:password}\n",
        "  d.update(d1)\n",
        "\n",
        "if g==\"y\":\n",
        "  x=input(\"enter file name as like 'd19.txt':\")\n",
        "  file1=open(x,\"w\")\n",
        "  text1=[input(\"enter data:\")]\n",
        "  file1.writelines(text1)\n",
        "  file1=open(x,\"r\")\n",
        "  file1.close()\n"
      ]
    }
  ]
}